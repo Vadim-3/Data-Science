{
 "cells": [
  {
   "cell_type": "code",
   "execution_count": 20,
   "id": "69616eae-526e-4536-bcdf-a5d9c01e2e6d",
   "metadata": {},
   "outputs": [
    {
     "name": "stdout",
     "output_type": "stream",
     "text": [
      "[ 1  2  3  4  5  6  7  8  9 10]\n",
      "[ 1  2  3  4  5  6  7  8  9 10]\n"
     ]
    }
   ],
   "source": [
    "\"\"\"\n",
    "Завдання 1. Створіть одновимірний масив (вектор) з першими 10-ма натуральними числами та виведіть його значення.\n",
    "\"\"\"\n",
    "\n",
    "import numpy as np\n",
    "\n",
    "my_vector = np.arange(1, 11)\n",
    "my_vector_2 = np.array([1, 2, 3, 4, 5, 6, 7, 8, 9 ,10], dtype=int)\n",
    "\n",
    "print(my_vector)\n",
    "print(my_vector_2)"
   ]
  },
  {
   "cell_type": "code",
   "execution_count": 21,
   "id": "d31f804d-f705-40f8-937f-9bcb5e8b3b7e",
   "metadata": {},
   "outputs": [
    {
     "name": "stdout",
     "output_type": "stream",
     "text": [
      "[[0. 0. 0.]\n",
      " [0. 0. 0.]\n",
      " [0. 0. 0.]]\n"
     ]
    }
   ],
   "source": [
    "\"\"\"\n",
    "Завдання 2. Створіть двовимірний масив (матрицю) розміром 3x3, заповніть його нулями та виведіть його значення.\n",
    "\"\"\"\n",
    "\n",
    "my_matrix = np.zeros((3, 3))\n",
    "\n",
    "print(my_matrix)"
   ]
  },
  {
   "cell_type": "code",
   "execution_count": 22,
   "id": "dad8aab5-d3fa-4a3d-bd8b-d031640ffe4c",
   "metadata": {},
   "outputs": [
    {
     "name": "stdout",
     "output_type": "stream",
     "text": [
      "[[ 6  8  3  5  6]\n",
      " [ 1  3  5 10  8]\n",
      " [10  4  4  3  9]\n",
      " [ 6  1  3  6  3]\n",
      " [ 1  2  4  8  9]]\n"
     ]
    }
   ],
   "source": [
    "\"\"\"\n",
    "Завдання 3. Створіть масив розміром 5x5, заповніть його випадковими цілими числами в діапазоні від 1 до 10 та виведіть його значення.\n",
    "\"\"\"\n",
    "\n",
    "my_array = np.random.randint(1, 11, size=(5, 5))\n",
    "\n",
    "print(my_array)"
   ]
  },
  {
   "cell_type": "code",
   "execution_count": 23,
   "id": "751ee2f5-c6ef-4a0d-ba92-8e5869aa1d96",
   "metadata": {},
   "outputs": [
    {
     "name": "stdout",
     "output_type": "stream",
     "text": [
      "[[0.33215    0.36140828 0.73772478 0.17245313]\n",
      " [0.56391642 0.5998612  0.47722133 0.0771755 ]\n",
      " [0.60321566 0.64432319 0.49447885 0.884516  ]\n",
      " [0.17303419 0.66473699 0.18398547 0.46289344]]\n"
     ]
    }
   ],
   "source": [
    "\"\"\"\n",
    "Завдання 4. Створіть масив розміром 4x4, заповніть його випадковими дійсними числами в діапазоні від 0 до 1 та виведіть його значення.\n",
    "\"\"\"\n",
    "\n",
    "my_array = np.random.rand(4, 4)\n",
    "\n",
    "print(my_array)"
   ]
  },
  {
   "cell_type": "code",
   "execution_count": 24,
   "id": "880abf9f-8788-4ae9-964f-8a064df8af6a",
   "metadata": {},
   "outputs": [
    {
     "name": "stdout",
     "output_type": "stream",
     "text": [
      "Масив 1: [ 4  3  6 10 10]\n",
      "Масив 2: [9 2 8 7 7]\n",
      "Додавання масивів: [13  5 14 17 17]\n",
      "Віднімання масивів: [-5  1 -2  3  3]\n",
      "Множення масивів: [36  6 48 70 70]\n"
     ]
    }
   ],
   "source": [
    "\"\"\"\n",
    "Завдання 5. Створіть два одновимірних масиви розміром 5, заповніть їх випадковими цілими числами в діапазоні від 1 до 10\n",
    "та виконайте на них поелементні операції додавання, віднімання та множення.\n",
    "\"\"\"\n",
    "\n",
    "array1 = np.random.randint(1, 11, size=5)\n",
    "array2 = np.random.randint(1, 11, size=5)\n",
    "\n",
    "print(\"Масив 1:\", array1)\n",
    "print(\"Масив 2:\", array2)\n",
    "\n",
    "sum_result = array1 + array2\n",
    "print(\"Додавання масивів:\", sum_result)\n",
    "\n",
    "subtract_result = array1 - array2\n",
    "print(\"Віднімання масивів:\", subtract_result)\n",
    "\n",
    "multiply_result = array1 * array2\n",
    "print(\"Множення масивів:\", multiply_result)"
   ]
  },
  {
   "cell_type": "code",
   "execution_count": 25,
   "id": "97a86cba-c1c9-4e19-9fca-1d353d00a77b",
   "metadata": {},
   "outputs": [
    {
     "name": "stdout",
     "output_type": "stream",
     "text": [
      "Вектор 1: [ 32  96 101  68  88  18  36]\n",
      "Вектор 2: [ 38 107  85  52 107  74  67]\n",
      "Скалярний добуток: 36769\n"
     ]
    }
   ],
   "source": [
    "\"\"\"\n",
    "Завдання 6. Створіть два вектори розміром 7, заповніть довільними числами та знайдіть їх скалярний добуток.\n",
    "\"\"\"\n",
    "\n",
    "vector1 = np.random.randint(1, 111, size=7)\n",
    "vector2 = np.random.randint(1, 111, size=7)\n",
    "\n",
    "print(\"Вектор 1:\", vector1)\n",
    "print(\"Вектор 2:\", vector2)\n",
    "\n",
    "dot_product_result = np.dot(vector1, vector2)\n",
    "print(\"Скалярний добуток:\", dot_product_result)"
   ]
  },
  {
   "cell_type": "code",
   "execution_count": 26,
   "id": "92d39ba4-042f-4716-bc7c-b842bfb76d93",
   "metadata": {},
   "outputs": [
    {
     "name": "stdout",
     "output_type": "stream",
     "text": [
      "Матриця 1:\n",
      "[[ 2 10]\n",
      " [ 1  8]]\n",
      "\n",
      "Матриця 2:\n",
      "[[ 6 10  8]\n",
      " [10  5  3]]\n",
      "\n",
      "Результат перемноження:\n",
      "[[112  70  46]\n",
      " [ 86  50  32]]\n"
     ]
    }
   ],
   "source": [
    "\"\"\"\n",
    "Завдання 7. Створіть дві матриці розміром 2x2 та 2x3, заповніть їх випадковими цілими числами в діапазоні від 1 до 10\n",
    "та перемножте їх між собою.\n",
    "\"\"\"\n",
    "\n",
    "matrix1 = np.random.randint(1, 11, size=(2, 2))\n",
    "matrix2 = np.random.randint(1, 11, size=(2, 3))\n",
    "\n",
    "print(\"Матриця 1:\")\n",
    "print(matrix1)\n",
    "print(\"\\nМатриця 2:\")\n",
    "print(matrix2)\n",
    "\n",
    "product_result = np.dot(matrix1, matrix2)\n",
    "print(\"\\nРезультат перемноження:\")\n",
    "print(product_result)"
   ]
  },
  {
   "cell_type": "code",
   "execution_count": 27,
   "id": "8a8bed4a-5644-4bb1-a0ef-1a657f0f42ec",
   "metadata": {},
   "outputs": [
    {
     "name": "stdout",
     "output_type": "stream",
     "text": [
      "[[1 3]\n",
      " [7 9]] \n",
      "\n",
      "[[1 7]\n",
      " [3 9]]\n"
     ]
    }
   ],
   "source": [
    "\"\"\"\n",
    "Завдання 8. Створіть матрицю розміром 3x3, заповніть її випадковими цілими числами в діапазоні від 1 до 10 та знайдіть її обернену матрицю.\n",
    "\"\"\"\n",
    "\n",
    "matrix = np.random.randint(1, 11, size=(2, 2))\n",
    "\n",
    "print(matrix, '\\n')\n",
    "print(matrix.T)"
   ]
  },
  {
   "cell_type": "code",
   "execution_count": 28,
   "id": "e5ce8ce7-6839-4c65-8018-d98bfe6eff8a",
   "metadata": {},
   "outputs": [
    {
     "name": "stdout",
     "output_type": "stream",
     "text": [
      "[[0.648 0.82  0.636 0.397]\n",
      " [0.026 0.186 0.908 0.241]\n",
      " [0.022 0.792 0.743 0.23 ]\n",
      " [0.518 0.427 0.107 0.309]] \n",
      "\n",
      "[[0.648 0.026 0.022 0.518]\n",
      " [0.82  0.186 0.792 0.427]\n",
      " [0.636 0.908 0.743 0.107]\n",
      " [0.397 0.241 0.23  0.309]]\n"
     ]
    }
   ],
   "source": [
    "\"\"\"\n",
    "Завдання 9. Створіть матрицю розміром 4x4, заповніть її випадковими дійсними числами в діапазоні від 0 до 1 та транспонуйте її.\n",
    "\"\"\"\n",
    "\n",
    "matrix = np.round(np.random.rand(4, 4), 3)\n",
    "\n",
    "print(matrix, '\\n')\n",
    "print(matrix.T)"
   ]
  },
  {
   "cell_type": "code",
   "execution_count": 29,
   "id": "8653389c-9858-4ad7-bb02-6b9908202fea",
   "metadata": {},
   "outputs": [
    {
     "name": "stdout",
     "output_type": "stream",
     "text": [
      "Матриця :\n",
      "[[8 4 4 1]\n",
      " [6 4 1 6]\n",
      " [8 1 1 7]]\n",
      "\n",
      "Вектор:\n",
      "[ 1  3 10  2]\n",
      "\n",
      "Результат перемноження матриці на вектор:\n",
      "[62 40 35]\n"
     ]
    }
   ],
   "source": [
    "\"\"\"\n",
    "Завдання 10. Створіть матрицю розміром 3x4 та вектор розміром 4, заповніть їх випадковими цілими числами в діапазоні від 1 до 10\n",
    "та перемножте матрицю на вектор.\n",
    "\"\"\"\n",
    "\n",
    "import numpy as np\n",
    "\n",
    "matrix = np.random.randint(1, 11, size=(3, 4))\n",
    "vector = np.random.randint(1, 11, size=4)\n",
    "\n",
    "print(\"Матриця :\")\n",
    "print(matrix)\n",
    "print(\"\\nВектор:\")\n",
    "print(vector)\n",
    "\n",
    "result = np.dot(matrix, vector)\n",
    "\n",
    "print(\"\\nРезультат перемноження матриці на вектор:\")\n",
    "print(result)"
   ]
  },
  {
   "cell_type": "code",
   "execution_count": 30,
   "id": "5a014966-bee5-4bd7-957c-39e4b6117960",
   "metadata": {},
   "outputs": [
    {
     "name": "stdout",
     "output_type": "stream",
     "text": [
      "Матриця :\n",
      "[[0.88081046 0.50996189 0.70577846]\n",
      " [0.09588981 0.29569846 0.73832101]]\n",
      "\n",
      "Вектор:\n",
      "[0.00391939 0.87364402 0.42434605]\n",
      "\n",
      "Результат перемноження матриці на вектор:\n",
      "[0.74847169 0.57201462]\n"
     ]
    }
   ],
   "source": [
    "\"\"\"\n",
    "Завдання 11. Створіть матрицю розміром 2x3 та вектор розміром 3,\n",
    "заповніть їх випадковими дійсними числами в діапазоні від 0 до 1 та перемножте матрицю на вектор.\n",
    "\"\"\"\n",
    "\n",
    "matrix = np.random.rand(2, 3)\n",
    "vector = np.random.rand(3)\n",
    "\n",
    "print(\"Матриця :\")\n",
    "print(matrix)\n",
    "print(\"\\nВектор:\")\n",
    "print(vector)\n",
    "\n",
    "result = np.dot(matrix, vector)\n",
    "\n",
    "print(\"\\nРезультат перемноження матриці на вектор:\")\n",
    "print(result)"
   ]
  },
  {
   "cell_type": "code",
   "execution_count": 31,
   "id": "05f0aff2-de4d-45fb-a07c-35b2e58b99e3",
   "metadata": {},
   "outputs": [
    {
     "name": "stdout",
     "output_type": "stream",
     "text": [
      "Матриця 1:\n",
      "[[ 9  3]\n",
      " [ 7 10]]\n",
      "\n",
      "Матриця 2:\n",
      "[[ 1  5]\n",
      " [10  1]]\n",
      "\n",
      "Результат перемноження матриці на вектор:\n",
      "[[ 9 15]\n",
      " [70 10]]\n"
     ]
    }
   ],
   "source": [
    "\"\"\"\n",
    "Завдання 12. Створіть дві матриці розміром 2x2, заповніть їх випадковими цілими числами в діапазоні від 1 до 10\n",
    "та виконайте їхнє поелементне множення.\n",
    "\"\"\"\n",
    "\n",
    "matrix1 = np.random.randint(1, 11, size=(2, 2))\n",
    "matrix2 = np.random.randint(1, 11, size=(2, 2))\n",
    "\n",
    "print(\"Матриця 1:\")\n",
    "print(matrix1)\n",
    "print(\"\\nМатриця 2:\")\n",
    "print(matrix2)\n",
    "\n",
    "result = matrix1*matrix2\n",
    "\n",
    "print(\"\\nРезультат перемноження матриці на вектор:\")\n",
    "print(result)"
   ]
  },
  {
   "cell_type": "code",
   "execution_count": 32,
   "id": "ad629497-8a57-4481-a640-a4e310298701",
   "metadata": {},
   "outputs": [
    {
     "name": "stdout",
     "output_type": "stream",
     "text": [
      "Матриця 1:\n",
      "[[ 5  4]\n",
      " [10  3]]\n",
      "\n",
      "Матриця 2:\n",
      "[[1 7]\n",
      " [5 8]]\n",
      "\n",
      "Результат перемноження матриці на вектор:\n",
      "[[ 6 11]\n",
      " [15 11]]\n"
     ]
    }
   ],
   "source": [
    "\"\"\"\n",
    "Завдання 13. Створіть дві матриці розміром 2x2, заповніть їх випадковими цілими числами в діапазоні від 1 до 10 та знайдіть їх добуток.\n",
    "\"\"\"\n",
    "\n",
    "matrix1 = np.random.randint(1, 11, size=(2, 2))\n",
    "matrix2 = np.random.randint(1, 11, size=(2, 2))\n",
    "\n",
    "print(\"Матриця 1:\")\n",
    "print(matrix1)\n",
    "print(\"\\nМатриця 2:\")\n",
    "print(matrix2)\n",
    "\n",
    "result = matrix1+matrix2\n",
    "\n",
    "print(\"\\nРезультат перемноження матриці на вектор:\")\n",
    "print(result)"
   ]
  },
  {
   "cell_type": "code",
   "execution_count": 33,
   "id": "c022abf8-0717-496d-b276-363fe9f5fc68",
   "metadata": {},
   "outputs": [
    {
     "name": "stdout",
     "output_type": "stream",
     "text": [
      "Матриця:\n",
      "[[22 26 65 61 14]\n",
      " [51 95 77 57 54]\n",
      " [99 96 74 81 90]\n",
      " [73 99 48 98 16]\n",
      " [69 70 47 64 84]]\n",
      "\n",
      "Сума елементів матриці: 1630\n"
     ]
    }
   ],
   "source": [
    "\"\"\"\n",
    "Завдання 14. Створіть матрицю розміром 5x5, заповніть її випадковими цілими числами в діапазоні від 1 до 100\n",
    "та знайдіть суму елементів матриці.\n",
    "\"\"\"\n",
    "\n",
    "matrix = np.random.randint(1, 101, size=(5, 5))\n",
    "\n",
    "print(\"Матриця:\")\n",
    "print(matrix)\n",
    "\n",
    "sum_matrix = np.sum(matrix)\n",
    "\n",
    "print(\"\\nСума елементів матриці:\", sum_matrix)"
   ]
  },
  {
   "cell_type": "code",
   "execution_count": 34,
   "id": "72cbe5d9-c29d-4aba-864b-5189cb02d464",
   "metadata": {},
   "outputs": [
    {
     "name": "stdout",
     "output_type": "stream",
     "text": [
      "Матриця 1:\n",
      "[[ 8  8  8  8]\n",
      " [ 6  3  4  7]\n",
      " [ 3 10 10 10]\n",
      " [ 3  3  8  9]]\n",
      "\n",
      "Матриця 2:\n",
      "[[ 1  3  3  5]\n",
      " [10  7  1 10]\n",
      " [ 1  8  8  1]\n",
      " [ 9  8  3  3]]\n",
      "\n",
      "Різниця матриць:\n",
      "[[ 7  5  5  3]\n",
      " [-4 -4  3 -3]\n",
      " [ 2  2  2  9]\n",
      " [-6 -5  5  6]]\n"
     ]
    }
   ],
   "source": [
    "\"\"\"\n",
    "Завдання 15. Створіть дві матриці розміром 4x4, заповніть їх випадковими цілими числами в діапазоні від 1 до 10 та знайдіть їхню різницю.\n",
    "\"\"\"\n",
    "\n",
    "matrix1 = np.random.randint(1, 11, size=(4, 4))\n",
    "matrix2 = np.random.randint(1, 11, size=(4, 4))\n",
    "\n",
    "print(\"Матриця 1:\")\n",
    "print(matrix1)\n",
    "print(\"\\nМатриця 2:\")\n",
    "print(matrix2)\n",
    "\n",
    "difference_matrix = matrix1 - matrix2\n",
    "\n",
    "print(\"\\nРізниця матриць:\")\n",
    "print(difference_matrix)"
   ]
  },
  {
   "cell_type": "code",
   "execution_count": 35,
   "id": "a06dd2b6-f5c1-4f27-89c9-611a77730815",
   "metadata": {},
   "outputs": [
    {
     "name": "stdout",
     "output_type": "stream",
     "text": [
      "Матриця:\n",
      "[[0.01947749 0.42608414 0.70619044]\n",
      " [0.21140686 0.41287365 0.77123405]\n",
      " [0.72153466 0.89155945 0.05572379]]\n",
      "\n",
      "Сума елементів кожного рядка:\n",
      "[[1.15175207]\n",
      " [1.39551455]\n",
      " [1.6688179 ]]\n"
     ]
    }
   ],
   "source": [
    "\"\"\"\n",
    "Завдання 16. Створіть матрицю розміром 3x3, заповніть її випадковими дійсними числами в діапазоні від 0 до 1 та знайдіть вектор-стовпчик,\n",
    "що містить суму елементів кожного рядка матриці.\n",
    "\"\"\"\n",
    "\n",
    "matrix = np.random.rand(3, 3)\n",
    "\n",
    "print(\"Матриця:\")\n",
    "print(matrix)\n",
    "\n",
    "row_sums = np.sum(matrix, axis=1, keepdims=True)\n",
    "\n",
    "print(\"\\nСума елементів кожного рядка:\")\n",
    "print(row_sums)"
   ]
  },
  {
   "cell_type": "code",
   "execution_count": 36,
   "id": "e6fd1f26-e98a-4166-94cb-b3353ae5005e",
   "metadata": {},
   "outputs": [
    {
     "name": "stdout",
     "output_type": "stream",
     "text": [
      "Матриця:\n",
      "[[104  91  95  10]\n",
      " [ 64  85  80  45]\n",
      " [  8  35   2  40]]\n",
      "\n",
      "Матриця з квадратами чисел:\n",
      "[[10816  8281  9025   100]\n",
      " [ 4096  7225  6400  2025]\n",
      " [   64  1225     4  1600]]\n"
     ]
    }
   ],
   "source": [
    "\"\"\"\n",
    "Завдання 17. Створіть матрицю розміром 3x4 з довільними цілими числами і створінь матрицю з квадратами цих чисел.\n",
    "\"\"\"\n",
    "\n",
    "matrix = np.random.randint(1, 111, size=(3, 4))\n",
    "\n",
    "print(\"Матриця:\")\n",
    "print(matrix)\n",
    "\n",
    "squares_matrix = np.square(matrix)\n",
    "\n",
    "print(\"\\nМатриця з квадратами чисел:\")\n",
    "print(squares_matrix)"
   ]
  },
  {
   "cell_type": "code",
   "execution_count": 37,
   "id": "daf476c6-7183-43ec-88dc-b962d5c847c7",
   "metadata": {},
   "outputs": [
    {
     "name": "stdout",
     "output_type": "stream",
     "text": [
      "Вектор:\n",
      "[39 48  1 47]\n",
      "\n",
      "Вектор з квадратними коренями:\n",
      "[6.244998   6.92820323 1.         6.8556546 ]\n"
     ]
    }
   ],
   "source": [
    "\"\"\"\n",
    "Завдання 18. Створіть вектор розміром 4, заповніть його випадковими цілими числами в діапазоні від 1 до 50\n",
    "та знайдіть вектор з квадратними коренями цих чисел.\n",
    "\"\"\"\n",
    "\n",
    "vector = np.random.randint(1, 51, size=4)\n",
    "\n",
    "print(\"Вектор:\")\n",
    "print(vector)\n",
    "\n",
    "sqrt_vector = np.sqrt(vector)\n",
    "\n",
    "print(\"\\nВектор з квадратними коренями:\")\n",
    "print(sqrt_vector)"
   ]
  },
  {
   "cell_type": "code",
   "execution_count": null,
   "id": "816c7c51-9534-4457-93e2-c7520592883c",
   "metadata": {},
   "outputs": [],
   "source": []
  }
 ],
 "metadata": {
  "kernelspec": {
   "display_name": "Python 3 (ipykernel)",
   "language": "python",
   "name": "python3"
  },
  "language_info": {
   "codemirror_mode": {
    "name": "ipython",
    "version": 3
   },
   "file_extension": ".py",
   "mimetype": "text/x-python",
   "name": "python",
   "nbconvert_exporter": "python",
   "pygments_lexer": "ipython3",
   "version": "3.11.4"
  }
 },
 "nbformat": 4,
 "nbformat_minor": 5
}
