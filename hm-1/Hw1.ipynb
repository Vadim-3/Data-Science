{
 "cells": [
  {
   "cell_type": "code",
   "execution_count": 39,
   "id": "69616eae-526e-4536-bcdf-a5d9c01e2e6d",
   "metadata": {},
   "outputs": [
    {
     "name": "stdout",
     "output_type": "stream",
     "text": [
      "[ 1  2  3  4  5  6  7  8  9 10]\n",
      "[ 1  2  3  4  5  6  7  8  9 10]\n"
     ]
    }
   ],
   "source": [
    "\"\"\"\n",
    "Завдання 1. Створіть одновимірний масив (вектор) з першими 10-ма натуральними числами та виведіть його значення.\n",
    "\"\"\"\n",
    "\n",
    "import numpy as np\n",
    "\n",
    "my_vector = np.arange(1, 11)\n",
    "my_vector_2 = np.array([1, 2, 3, 4, 5, 6, 7, 8, 9 ,10], dtype=int)\n",
    "\n",
    "print(my_vector)\n",
    "print(my_vector_2)"
   ]
  },
  {
   "cell_type": "code",
   "execution_count": 40,
   "id": "d31f804d-f705-40f8-937f-9bcb5e8b3b7e",
   "metadata": {},
   "outputs": [
    {
     "name": "stdout",
     "output_type": "stream",
     "text": [
      "[[0. 0. 0.]\n",
      " [0. 0. 0.]\n",
      " [0. 0. 0.]]\n"
     ]
    }
   ],
   "source": [
    "\"\"\"\n",
    "Завдання 2. Створіть двовимірний масив (матрицю) розміром 3x3, заповніть його нулями та виведіть його значення.\n",
    "\"\"\"\n",
    "\n",
    "my_matrix = np.zeros((3, 3))\n",
    "\n",
    "print(my_matrix)"
   ]
  },
  {
   "cell_type": "code",
   "execution_count": 35,
   "id": "dad8aab5-d3fa-4a3d-bd8b-d031640ffe4c",
   "metadata": {},
   "outputs": [
    {
     "name": "stdout",
     "output_type": "stream",
     "text": [
      "[[ 5  9  9  6  3]\n",
      " [ 8  9  3  7  4]\n",
      " [ 4  7  3 10  6]\n",
      " [ 5  5  3  1  7]\n",
      " [ 9  5  9  2  1]]\n"
     ]
    }
   ],
   "source": [
    "\"\"\"\n",
    "Завдання 3. Створіть масив розміром 5x5, заповніть його випадковими цілими числами в діапазоні від 1 до 10 та виведіть його значення.\n",
    "\"\"\"\n",
    "\n",
    "my_array = np.random.randint(1, 11, size=(5, 5))\n",
    "\n",
    "print(my_array)"
   ]
  },
  {
   "cell_type": "code",
   "execution_count": 36,
   "id": "751ee2f5-c6ef-4a0d-ba92-8e5869aa1d96",
   "metadata": {},
   "outputs": [
    {
     "name": "stdout",
     "output_type": "stream",
     "text": [
      "[[0.06934156 0.44379254 0.3769385  0.64642597]\n",
      " [0.55297336 0.67452654 0.066914   0.75034642]\n",
      " [0.44020394 0.50405135 0.44744662 0.7672892 ]\n",
      " [0.88435414 0.85783092 0.54280262 0.19148378]]\n"
     ]
    }
   ],
   "source": [
    "\"\"\"\n",
    "Завдання 4. Створіть масив розміром 4x4, заповніть його випадковими дійсними числами в діапазоні від 0 до 1 та виведіть його значення.\n",
    "\"\"\"\n",
    "\n",
    "my_array = np.random.rand(4, 4)\n",
    "\n",
    "print(my_array)"
   ]
  },
  {
   "cell_type": "code",
   "execution_count": 37,
   "id": "880abf9f-8788-4ae9-964f-8a064df8af6a",
   "metadata": {},
   "outputs": [
    {
     "name": "stdout",
     "output_type": "stream",
     "text": [
      "Масив 1: [4 1 2 1 2]\n",
      "Масив 2: [10  6  1 10 10]\n",
      "Додавання масивів: [14  7  3 11 12]\n",
      "Віднімання масивів: [-6 -5  1 -9 -8]\n",
      "Множення масивів: [40  6  2 10 20]\n"
     ]
    }
   ],
   "source": [
    "\"\"\"\n",
    "Завдання 5. Створіть два одновимірних масиви розміром 5, заповніть їх випадковими цілими числами в діапазоні від 1 до 10\n",
    "та виконайте на них поелементні операції додавання, віднімання та множення.\n",
    "\"\"\"\n",
    "\n",
    "array1 = np.random.randint(1, 11, size=5)\n",
    "array2 = np.random.randint(1, 11, size=5)\n",
    "\n",
    "print(\"Масив 1:\", array1)\n",
    "print(\"Масив 2:\", array2)\n",
    "\n",
    "sum_result = array1 + array2\n",
    "print(\"Додавання масивів:\", sum_result)\n",
    "\n",
    "subtract_result = array1 - array2\n",
    "print(\"Віднімання масивів:\", subtract_result)\n",
    "\n",
    "multiply_result = array1 * array2\n",
    "print(\"Множення масивів:\", multiply_result)"
   ]
  },
  {
   "cell_type": "code",
   "execution_count": 38,
   "id": "97a86cba-c1c9-4e19-9fca-1d353d00a77b",
   "metadata": {},
   "outputs": [
    {
     "name": "stdout",
     "output_type": "stream",
     "text": [
      "Вектор 1: [ 37  39  90  63  53  42 100]\n",
      "Вектор 2: [ 30 102   2  12  85 107 108]\n",
      "Скалярний добуток: 25823\n"
     ]
    }
   ],
   "source": [
    "\"\"\"\n",
    "Завдання 6. Створіть два вектори розміром 7, заповніть довільними числами та знайдіть їх скалярний добуток.\n",
    "\"\"\"\n",
    "\n",
    "vector1 = np.random.randint(1, 111, size=7)\n",
    "vector2 = np.random.randint(1, 111, size=7)\n",
    "\n",
    "print(\"Вектор 1:\", vector1)\n",
    "print(\"Вектор 2:\", vector2)\n",
    "\n",
    "dot_product_result = np.dot(vector1, vector2)\n",
    "print(\"Скалярний добуток:\", dot_product_result)"
   ]
  },
  {
   "cell_type": "code",
   "execution_count": 23,
   "id": "92d39ba4-042f-4716-bc7c-b842bfb76d93",
   "metadata": {},
   "outputs": [
    {
     "name": "stdout",
     "output_type": "stream",
     "text": [
      "Матриця 1:\n",
      "[[1 2]\n",
      " [7 7]]\n",
      "\n",
      "Матриця 2:\n",
      "[[4 6 2]\n",
      " [8 8 6]]\n",
      "\n",
      "Результат перемноження:\n",
      "[[20 22 14]\n",
      " [84 98 56]]\n"
     ]
    }
   ],
   "source": [
    "\"\"\"\n",
    "Завдання 7. Створіть дві матриці розміром 2x2 та 2x3, заповніть їх випадковими цілими числами в діапазоні від 1 до 10\n",
    "та перемножте їх між собою.\n",
    "\"\"\"\n",
    "\n",
    "matrix1 = np.random.randint(1, 11, size=(2, 2))\n",
    "matrix2 = np.random.randint(1, 11, size=(2, 3))\n",
    "\n",
    "print(\"Матриця 1:\")\n",
    "print(matrix1)\n",
    "print(\"\\nМатриця 2:\")\n",
    "print(matrix2)\n",
    "\n",
    "product_result = np.dot(matrix1, matrix2)\n",
    "print(\"\\nРезультат перемноження:\")\n",
    "print(product_result)"
   ]
  },
  {
   "cell_type": "code",
   "execution_count": 25,
   "id": "8a8bed4a-5644-4bb1-a0ef-1a657f0f42ec",
   "metadata": {},
   "outputs": [
    {
     "name": "stdout",
     "output_type": "stream",
     "text": [
      "[[ 5  4]\n",
      " [10  3]] \n",
      "\n",
      "[[ 5 10]\n",
      " [ 4  3]]\n"
     ]
    }
   ],
   "source": [
    "\"\"\"\n",
    "Завдання 8. Створіть матрицю розміром 3x3, заповніть її випадковими цілими числами в діапазоні від 1 до 10 та знайдіть її обернену матрицю.\n",
    "\"\"\"\n",
    "\n",
    "matrix = np.random.randint(1, 11, size=(2, 2))\n",
    "\n",
    "print(matrix, '\\n')\n",
    "print(matrix.T)"
   ]
  },
  {
   "cell_type": "code",
   "execution_count": 32,
   "id": "e5ce8ce7-6839-4c65-8018-d98bfe6eff8a",
   "metadata": {},
   "outputs": [
    {
     "name": "stdout",
     "output_type": "stream",
     "text": [
      "[[0.791 0.296 0.063 0.738]\n",
      " [0.966 0.064 0.707 0.195]\n",
      " [0.455 0.896 0.835 0.564]\n",
      " [0.282 0.989 0.361 0.47 ]] \n",
      "\n",
      "[[0.791 0.966 0.455 0.282]\n",
      " [0.296 0.064 0.896 0.989]\n",
      " [0.063 0.707 0.835 0.361]\n",
      " [0.738 0.195 0.564 0.47 ]]\n"
     ]
    }
   ],
   "source": [
    "\"\"\"\n",
    "Завдання 9. Створіть матрицю розміром 4x4, заповніть її випадковими дійсними числами в діапазоні від 0 до 1 та транспонуйте її.\n",
    "\"\"\"\n",
    "\n",
    "matrix = np.round(np.random.rand(4, 4), 3)\n",
    "\n",
    "print(matrix, '\\n')\n",
    "print(matrix.T)"
   ]
  },
  {
   "cell_type": "code",
   "execution_count": null,
   "id": "8653389c-9858-4ad7-bb02-6b9908202fea",
   "metadata": {},
   "outputs": [],
   "source": []
  }
 ],
 "metadata": {
  "kernelspec": {
   "display_name": "Python 3 (ipykernel)",
   "language": "python",
   "name": "python3"
  },
  "language_info": {
   "codemirror_mode": {
    "name": "ipython",
    "version": 3
   },
   "file_extension": ".py",
   "mimetype": "text/x-python",
   "name": "python",
   "nbconvert_exporter": "python",
   "pygments_lexer": "ipython3",
   "version": "3.11.4"
  }
 },
 "nbformat": 4,
 "nbformat_minor": 5
}
