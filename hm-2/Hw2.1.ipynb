{
 "cells": [
  {
   "cell_type": "code",
   "execution_count": 44,
   "id": "430c44fd-8b4a-4186-b9d4-834283e6cd81",
   "metadata": {},
   "outputs": [
    {
     "name": "stdout",
     "output_type": "stream",
     "text": [
      "Вибрана таблиця:\n",
      "                Регіон   1950   1960   1970  1990  2000  2012 2014 2019\n",
      "0                Крим  230.0  206.0  160.0   130    73   126    —    —\n",
      "1           Вінницька  224.0  192.0  142.0   124    84   112  109   76\n",
      "2           Волинська  247.0  250.0  179.0   153   112   148  141  101\n",
      "3    Дніпропетровська  204.0  204.0  151.0   123    71   112  111   71\n",
      "4            Донецька  271.0  214.0  140.0   109    61    98   82    —\n",
      "5         Житомирська  261.0  223.0  159.0   129    89   122  120   79\n",
      "6        Закарпатська  314.0  273.0  207.0   168   115   151  146  104\n",
      "7          Запорізька  219.0  197.0  150.0   124    71   106  106   68\n",
      "8   Івано-Франківська  243.0  248.0  182.0   155   103   124  122   88\n",
      "9            Київська  204.0  189.0  156.0   123    73   122  121   80\n",
      "10     Кіровоградська  216.0  171.0  145.0   126    79   110  108   68\n",
      "11          Луганська  262.0  235.0  144.0   116    62    96   51    —\n",
      "12          Львівська  234.0  240.0  171.0   140    91   119  119   87\n",
      "13       Миколаївська  211.0  194.0  155.0   137    80   115  112   71\n",
      "14            Одеська  241.0  192.0  148.0   126    80   127  123   88\n",
      "15         Полтавська  186.0  163.0  131.0   118    70    99  100   65\n",
      "16         Рівненська  269.0  267.0  193.0   158   118   159  148  107\n",
      "17            Сумська  216.0  184.0  132.0   115    70    97   92   60\n",
      "18      Тернопільська  213.0  216.0  157.0   142    92   113  109   76\n",
      "19         Харківська  197.0  173.0  140.0   114    68    99  101   68\n",
      "20         Херсонська  208.0  214.0  166.0   143    85   117  115   81\n",
      "21        Хмельницька  234.0  198.0  148.0   129    85   113  112   79\n",
      "22          Черкаська  205.0  179.0  144.0   123    75   100   98   64\n",
      "23        Чернівецька  247.0  218.0  170.0   148   101   128  129   92\n",
      "24       Чернігівська  220.0  183.0  127.0   108    69    94   90   61\n",
      "25               Київ    NaN  174.0  159.0   120    73   120  121  110\n",
      "26        Севастополь    NaN    NaN    NaN   125    70   120    —    —\n",
      "27            Україна  228.0  205.0  152.0   126    78   114  111   81\n",
      "----------------------------------------------------------------------\n",
      "             Регіон   1950   1960   1970  1990  2000  2012 2014 2019\n",
      "0              Крим  230.0  206.0  160.0   130    73   126    —    —\n",
      "1         Вінницька  224.0  192.0  142.0   124    84   112  109   76\n",
      "2         Волинська  247.0  250.0  179.0   153   112   148  141  101\n",
      "3  Дніпропетровська  204.0  204.0  151.0   123    71   112  111   71\n",
      "4          Донецька  271.0  214.0  140.0   109    61    98   82    —\n"
     ]
    }
   ],
   "source": [
    "import pandas as pd\n",
    "import numpy as np\n",
    "import matplotlib.pyplot as plt\n",
    "\n",
    "# URL-адресу таблиці\n",
    "url = \"https://uk.wikipedia.org/wiki/%D0%9D%D0%B0%D1%81%D0%B5%D0%BB%D0%B5%D0%BD%D0%BD%D1%8F_%D0%A3%D0%BA%D1%80%D0%B0%D1%97%D0%BD%D0%B8\"\n",
    "\n",
    "# read_html для зчитування таблиць зі сторінки\n",
    "tables = pd.read_html(url, header=0)\n",
    "\n",
    "# Вибір потрібної таблиці\n",
    "selected_table = tables[12]\n",
    "\n",
    "print(\"Вибрана таблиця:\\n\", selected_table)\n",
    "print('-'*70)\n",
    "# part-1 task-1\n",
    "print(selected_table.head())"
   ]
  },
  {
   "cell_type": "code",
   "execution_count": 45,
   "id": "ad795a4c-17d3-4853-8f1b-1d3de9a041df",
   "metadata": {},
   "outputs": [
    {
     "name": "stdout",
     "output_type": "stream",
     "text": [
      "Кількість рядків: 28\n",
      "Кількість стовпців: 9\n"
     ]
    }
   ],
   "source": [
    "# part-1 task-2\n",
    "rows, columns = selected_table.shape\n",
    "\n",
    "# Виведіть кількість рядків та стовпців\n",
    "print(f\"Кількість рядків: {rows}\")\n",
    "print(f\"Кількість стовпців: {columns}\")"
   ]
  },
  {
   "cell_type": "code",
   "execution_count": 46,
   "id": "98d7b91b-5969-4e81-8e36-34676700fbdd",
   "metadata": {},
   "outputs": [
    {
     "name": "stdout",
     "output_type": "stream",
     "text": [
      "               Регіон   1950   1960   1970  1990  2000  2012 2014 2019\n",
      "0                Крим  230.0  206.0  160.0   130    73   126  NaN  NaN\n",
      "1           Вінницька  224.0  192.0  142.0   124    84   112  109   76\n",
      "2           Волинська  247.0  250.0  179.0   153   112   148  141  101\n",
      "3    Дніпропетровська  204.0  204.0  151.0   123    71   112  111   71\n",
      "4            Донецька  271.0  214.0  140.0   109    61    98   82  NaN\n",
      "5         Житомирська  261.0  223.0  159.0   129    89   122  120   79\n",
      "6        Закарпатська  314.0  273.0  207.0   168   115   151  146  104\n",
      "7          Запорізька  219.0  197.0  150.0   124    71   106  106   68\n",
      "8   Івано-Франківська  243.0  248.0  182.0   155   103   124  122   88\n",
      "9            Київська  204.0  189.0  156.0   123    73   122  121   80\n",
      "10     Кіровоградська  216.0  171.0  145.0   126    79   110  108   68\n",
      "11          Луганська  262.0  235.0  144.0   116    62    96   51  NaN\n",
      "12          Львівська  234.0  240.0  171.0   140    91   119  119   87\n",
      "13       Миколаївська  211.0  194.0  155.0   137    80   115  112   71\n",
      "14            Одеська  241.0  192.0  148.0   126    80   127  123   88\n",
      "15         Полтавська  186.0  163.0  131.0   118    70    99  100   65\n",
      "16         Рівненська  269.0  267.0  193.0   158   118   159  148  107\n",
      "17            Сумська  216.0  184.0  132.0   115    70    97   92   60\n",
      "18      Тернопільська  213.0  216.0  157.0   142    92   113  109   76\n",
      "19         Харківська  197.0  173.0  140.0   114    68    99  101   68\n",
      "20         Херсонська  208.0  214.0  166.0   143    85   117  115   81\n",
      "21        Хмельницька  234.0  198.0  148.0   129    85   113  112   79\n",
      "22          Черкаська  205.0  179.0  144.0   123    75   100   98   64\n",
      "23        Чернівецька  247.0  218.0  170.0   148   101   128  129   92\n",
      "24       Чернігівська  220.0  183.0  127.0   108    69    94   90   61\n",
      "25               Київ    NaN  174.0  159.0   120    73   120  121  110\n",
      "26        Севастополь    NaN    NaN    NaN   125    70   120  NaN  NaN\n",
      "27            Україна  228.0  205.0  152.0   126    78   114  111   81\n"
     ]
    }
   ],
   "source": [
    "# part-1 task-3\n",
    "selected_table_v2 = selected_table.replace(\"—\", value=np.nan)\n",
    "\n",
    "# Виведіть змінений датафрейм\n",
    "print(selected_table_v2)"
   ]
  },
  {
   "cell_type": "code",
   "execution_count": 47,
   "id": "5bd8a7b8-f700-44f4-b337-d877f9fd03ec",
   "metadata": {},
   "outputs": [
    {
     "name": "stdout",
     "output_type": "stream",
     "text": [
      "Регіон     object\n",
      "1950      float64\n",
      "1960      float64\n",
      "1970      float64\n",
      "1990        int64\n",
      "2000        int64\n",
      "2012        int64\n",
      "2014       object\n",
      "2019       object\n",
      "dtype: object\n"
     ]
    }
   ],
   "source": [
    "# part-1 task-4\n",
    "print(selected_table_v2.dtypes)"
   ]
  },
  {
   "cell_type": "code",
   "execution_count": 48,
   "id": "3073ac7b-c50f-43ba-b19d-fb71b3ad4e07",
   "metadata": {},
   "outputs": [
    {
     "name": "stdout",
     "output_type": "stream",
     "text": [
      "Регіон     object\n",
      "1950      float64\n",
      "1960      float64\n",
      "1970      float64\n",
      "1990        int64\n",
      "2000        int64\n",
      "2012        int64\n",
      "2014      float64\n",
      "2019      float64\n",
      "dtype: object\n"
     ]
    }
   ],
   "source": [
    "# part-1 task-5\n",
    "selected_table_v2[\"2014\"] = pd.to_numeric(selected_table_v2[\"2014\"])\n",
    "selected_table_v2[\"2019\"] = pd.to_numeric(selected_table_v2[\"2019\"])\n",
    "    \n",
    "print(selected_table_v2.dtypes)"
   ]
  },
  {
   "cell_type": "code",
   "execution_count": 49,
   "id": "908f48ef-4ef2-4d64-9d66-d24bafce949e",
   "metadata": {},
   "outputs": [
    {
     "name": "stdout",
     "output_type": "stream",
     "text": [
      "        Кількість пропусків  Частка пропусків (%)\n",
      "Регіон                    0              0.000000\n",
      "1950                      2              0.071429\n",
      "1960                      1              0.035714\n",
      "1970                      1              0.035714\n",
      "1990                      0              0.000000\n",
      "2000                      0              0.000000\n",
      "2012                      0              0.000000\n",
      "2014                      2              0.071429\n",
      "2019                      4              0.142857\n"
     ]
    }
   ],
   "source": [
    "# part-1 task-6\n",
    "missing_values = selected_table_v2.isnull().sum()\n",
    "\n",
    "# # частку пропусків у кожній колонці\n",
    "missing_percentage = missing_values/selected_table_v2.shape[0]\n",
    "\n",
    "# результfn\n",
    "result_df = pd.DataFrame({\n",
    "    'Кількість пропусків': missing_values,\n",
    "    'Частка пропусків (%)': missing_percentage\n",
    "})\n",
    "print(result_df)\n"
   ]
  },
  {
   "cell_type": "code",
   "execution_count": 50,
   "id": "f044639d-1b50-4d59-b15a-9433d7e0f05a",
   "metadata": {},
   "outputs": [
    {
     "name": "stdout",
     "output_type": "stream",
     "text": [
      "               Регіон   1950   1960   1970  1990  2000  2012   2014   2019\n",
      "0                Крим  230.0  206.0  160.0   130    73   126    NaN    NaN\n",
      "1           Вінницька  224.0  192.0  142.0   124    84   112  109.0   76.0\n",
      "2           Волинська  247.0  250.0  179.0   153   112   148  141.0  101.0\n",
      "3    Дніпропетровська  204.0  204.0  151.0   123    71   112  111.0   71.0\n",
      "4            Донецька  271.0  214.0  140.0   109    61    98   82.0    NaN\n",
      "5         Житомирська  261.0  223.0  159.0   129    89   122  120.0   79.0\n",
      "6        Закарпатська  314.0  273.0  207.0   168   115   151  146.0  104.0\n",
      "7          Запорізька  219.0  197.0  150.0   124    71   106  106.0   68.0\n",
      "8   Івано-Франківська  243.0  248.0  182.0   155   103   124  122.0   88.0\n",
      "9            Київська  204.0  189.0  156.0   123    73   122  121.0   80.0\n",
      "10     Кіровоградська  216.0  171.0  145.0   126    79   110  108.0   68.0\n",
      "11          Луганська  262.0  235.0  144.0   116    62    96   51.0    NaN\n",
      "12          Львівська  234.0  240.0  171.0   140    91   119  119.0   87.0\n",
      "13       Миколаївська  211.0  194.0  155.0   137    80   115  112.0   71.0\n",
      "14            Одеська  241.0  192.0  148.0   126    80   127  123.0   88.0\n",
      "15         Полтавська  186.0  163.0  131.0   118    70    99  100.0   65.0\n",
      "16         Рівненська  269.0  267.0  193.0   158   118   159  148.0  107.0\n",
      "17            Сумська  216.0  184.0  132.0   115    70    97   92.0   60.0\n",
      "18      Тернопільська  213.0  216.0  157.0   142    92   113  109.0   76.0\n",
      "19         Харківська  197.0  173.0  140.0   114    68    99  101.0   68.0\n",
      "20         Херсонська  208.0  214.0  166.0   143    85   117  115.0   81.0\n",
      "21        Хмельницька  234.0  198.0  148.0   129    85   113  112.0   79.0\n",
      "22          Черкаська  205.0  179.0  144.0   123    75   100   98.0   64.0\n",
      "23        Чернівецька  247.0  218.0  170.0   148   101   128  129.0   92.0\n",
      "24       Чернігівська  220.0  183.0  127.0   108    69    94   90.0   61.0\n",
      "25               Київ    NaN  174.0  159.0   120    73   120  121.0  110.0\n",
      "26        Севастополь    NaN    NaN    NaN   125    70   120    NaN    NaN\n"
     ]
    }
   ],
   "source": [
    "# part-1 task-7\n",
    "selected_table_v3 = selected_table_v2.drop(selected_table.index[-1])\n",
    "\n",
    "print(selected_table_v3)\n"
   ]
  },
  {
   "cell_type": "code",
   "execution_count": 51,
   "id": "a40c2a75-14ef-4588-ac2f-ca9e2ebe7b6f",
   "metadata": {},
   "outputs": [
    {
     "name": "stdout",
     "output_type": "stream",
     "text": [
      "               Регіон   1950   1960   1970  1990  2000  2012   2014   2019\n",
      "0                Крим  230.0  206.0  160.0   130    73   126  111.4   80.2\n",
      "1           Вінницька  224.0  192.0  142.0   124    84   112  109.0   76.0\n",
      "2           Волинська  247.0  250.0  179.0   153   112   148  141.0  101.0\n",
      "3    Дніпропетровська  204.0  204.0  151.0   123    71   112  111.0   71.0\n",
      "4            Донецька  271.0  214.0  140.0   109    61    98   82.0   80.2\n",
      "5         Житомирська  261.0  223.0  159.0   129    89   122  120.0   79.0\n",
      "6        Закарпатська  314.0  273.0  207.0   168   115   151  146.0  104.0\n",
      "7          Запорізька  219.0  197.0  150.0   124    71   106  106.0   68.0\n",
      "8   Івано-Франківська  243.0  248.0  182.0   155   103   124  122.0   88.0\n",
      "9            Київська  204.0  189.0  156.0   123    73   122  121.0   80.0\n",
      "10     Кіровоградська  216.0  171.0  145.0   126    79   110  108.0   68.0\n",
      "11          Луганська  262.0  235.0  144.0   116    62    96   51.0   80.2\n",
      "12          Львівська  234.0  240.0  171.0   140    91   119  119.0   87.0\n",
      "13       Миколаївська  211.0  194.0  155.0   137    80   115  112.0   71.0\n",
      "14            Одеська  241.0  192.0  148.0   126    80   127  123.0   88.0\n",
      "15         Полтавська  186.0  163.0  131.0   118    70    99  100.0   65.0\n",
      "16         Рівненська  269.0  267.0  193.0   158   118   159  148.0  107.0\n",
      "17            Сумська  216.0  184.0  132.0   115    70    97   92.0   60.0\n",
      "18      Тернопільська  213.0  216.0  157.0   142    92   113  109.0   76.0\n",
      "19         Харківська  197.0  173.0  140.0   114    68    99  101.0   68.0\n",
      "20         Херсонська  208.0  214.0  166.0   143    85   117  115.0   81.0\n",
      "21        Хмельницька  234.0  198.0  148.0   129    85   113  112.0   79.0\n",
      "22          Черкаська  205.0  179.0  144.0   123    75   100   98.0   64.0\n",
      "23        Чернівецька  247.0  218.0  170.0   148   101   128  129.0   92.0\n",
      "24       Чернігівська  220.0  183.0  127.0   108    69    94   90.0   61.0\n",
      "25               Київ  231.0  174.0  159.0   120    73   120  121.0  110.0\n",
      "26        Севастополь  231.0  207.6  156.0   125    70   120  111.4   80.2\n"
     ]
    }
   ],
   "source": [
    "# part-1 task-8\n",
    "for column in selected_table_v3.columns[1:]:\n",
    "    selected_table_v3[column].fillna(selected_table_v3[column].mean().round(1), inplace=True)\n",
    "\n",
    "print(selected_table_v3)"
   ]
  },
  {
   "cell_type": "code",
   "execution_count": 52,
   "id": "a23cc03d-b901-4916-ba9a-b08bf0042c7b",
   "metadata": {},
   "outputs": [
    {
     "data": {
      "text/html": [
       "<div>\n",
       "<style scoped>\n",
       "    .dataframe tbody tr th:only-of-type {\n",
       "        vertical-align: middle;\n",
       "    }\n",
       "\n",
       "    .dataframe tbody tr th {\n",
       "        vertical-align: top;\n",
       "    }\n",
       "\n",
       "    .dataframe thead th {\n",
       "        text-align: right;\n",
       "    }\n",
       "</style>\n",
       "<table border=\"1\" class=\"dataframe\">\n",
       "  <thead>\n",
       "    <tr style=\"text-align: right;\">\n",
       "      <th></th>\n",
       "      <th>Регіон</th>\n",
       "      <th>2019</th>\n",
       "    </tr>\n",
       "  </thead>\n",
       "  <tbody>\n",
       "    <tr>\n",
       "      <th>2</th>\n",
       "      <td>Волинська</td>\n",
       "      <td>101.0</td>\n",
       "    </tr>\n",
       "    <tr>\n",
       "      <th>6</th>\n",
       "      <td>Закарпатська</td>\n",
       "      <td>104.0</td>\n",
       "    </tr>\n",
       "    <tr>\n",
       "      <th>8</th>\n",
       "      <td>Івано-Франківська</td>\n",
       "      <td>88.0</td>\n",
       "    </tr>\n",
       "    <tr>\n",
       "      <th>12</th>\n",
       "      <td>Львівська</td>\n",
       "      <td>87.0</td>\n",
       "    </tr>\n",
       "    <tr>\n",
       "      <th>14</th>\n",
       "      <td>Одеська</td>\n",
       "      <td>88.0</td>\n",
       "    </tr>\n",
       "    <tr>\n",
       "      <th>16</th>\n",
       "      <td>Рівненська</td>\n",
       "      <td>107.0</td>\n",
       "    </tr>\n",
       "    <tr>\n",
       "      <th>20</th>\n",
       "      <td>Херсонська</td>\n",
       "      <td>81.0</td>\n",
       "    </tr>\n",
       "    <tr>\n",
       "      <th>23</th>\n",
       "      <td>Чернівецька</td>\n",
       "      <td>92.0</td>\n",
       "    </tr>\n",
       "    <tr>\n",
       "      <th>25</th>\n",
       "      <td>Київ</td>\n",
       "      <td>110.0</td>\n",
       "    </tr>\n",
       "  </tbody>\n",
       "</table>\n",
       "</div>"
      ],
      "text/plain": [
       "               Регіон   2019\n",
       "2           Волинська  101.0\n",
       "6        Закарпатська  104.0\n",
       "8   Івано-Франківська   88.0\n",
       "12          Львівська   87.0\n",
       "14            Одеська   88.0\n",
       "16         Рівненська  107.0\n",
       "20         Херсонська   81.0\n",
       "23        Чернівецька   92.0\n",
       "25               Київ  110.0"
      ]
     },
     "execution_count": 52,
     "metadata": {},
     "output_type": "execute_result"
    }
   ],
   "source": [
    "# part-1 task-9\n",
    "avr_val2019 = selected_table_v3[\"2019\"].mean().round(1) #80.2\n",
    "selected_table_v3[selected_table_v3[\"2019\"] > avr_val2019][[\"Регіон\", \"2019\"]]\n"
   ]
  },
  {
   "cell_type": "code",
   "execution_count": 53,
   "id": "96395bba-a769-4c98-b4b6-4eae29ff8c49",
   "metadata": {},
   "outputs": [
    {
     "data": {
      "text/html": [
       "<div>\n",
       "<style scoped>\n",
       "    .dataframe tbody tr th:only-of-type {\n",
       "        vertical-align: middle;\n",
       "    }\n",
       "\n",
       "    .dataframe tbody tr th {\n",
       "        vertical-align: top;\n",
       "    }\n",
       "\n",
       "    .dataframe thead th {\n",
       "        text-align: right;\n",
       "    }\n",
       "</style>\n",
       "<table border=\"1\" class=\"dataframe\">\n",
       "  <thead>\n",
       "    <tr style=\"text-align: right;\">\n",
       "      <th></th>\n",
       "      <th>Регіон</th>\n",
       "      <th>2014</th>\n",
       "    </tr>\n",
       "  </thead>\n",
       "  <tbody>\n",
       "    <tr>\n",
       "      <th>16</th>\n",
       "      <td>Рівненська</td>\n",
       "      <td>148.0</td>\n",
       "    </tr>\n",
       "  </tbody>\n",
       "</table>\n",
       "</div>"
      ],
      "text/plain": [
       "        Регіон   2014\n",
       "16  Рівненська  148.0"
      ]
     },
     "execution_count": 53,
     "metadata": {},
     "output_type": "execute_result"
    }
   ],
   "source": [
    "# part-1 task-10\n",
    "selected_table_v4 = selected_table_v3.sort_values([\"2014\"], ascending=False)[[\"Регіон\", \"2014\"]].head(1)\n",
    "selected_table_v4"
   ]
  },
  {
   "cell_type": "code",
   "execution_count": 54,
   "id": "e6020bb5-4a5e-48d9-a656-9087956d0ac0",
   "metadata": {},
   "outputs": [
    {
     "name": "stdout",
     "output_type": "stream",
     "text": [
      "Axes(0.125,0.11;0.775x0.77)\n"
     ]
    },
    {
     "data": {
      "image/png": "[encoded data removed]",
      "text/plain": [
       "<Figure size 1600x1000 with 1 Axes>"
      ]
     },
     "metadata": {},
     "output_type": "display_data"
    }
   ],
   "source": [
    "# part-1 task-11\n",
    "chart = selected_table_v3.plot.bar(x=\"Регіон\",\n",
    "                                   y=\"2019\",\n",
    "                                   title = \"Діаграма коефіцієнтів народжуваності в регіонах України у 2019 році\",\n",
    "                                   ylabel = \"Коефіцієнт\",\n",
    "                                   figsize=(16, 10),\n",
    "                                   color=\"midnightblue\",\n",
    "                                   legend=True,\n",
    "                                   alpha=0.6\n",
    "                                  )\n",
    "print(chart)"
   ]
  },
  {
   "cell_type": "code",
   "execution_count": null,
   "id": "34b7265a-3a0b-4892-93d4-65bbbffede33",
   "metadata": {},
   "outputs": [],
   "source": []
  }
 ],
 "metadata": {
  "kernelspec": {
   "display_name": "Python 3 (ipykernel)",
   "language": "python",
   "name": "python3"
  },
  "language_info": {
   "codemirror_mode": {
    "name": "ipython",
    "version": 3
   },
   "file_extension": ".py",
   "mimetype": "text/x-python",
   "name": "python",
   "nbconvert_exporter": "python",
   "pygments_lexer": "ipython3",
   "version": "3.11.4"
  }
 },
 "nbformat": 4,
 "nbformat_minor": 5
}
